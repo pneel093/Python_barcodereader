{
 "cells": [
  {
   "cell_type": "code",
   "execution_count": 11,
   "id": "f76632b6",
   "metadata": {
    "scrolled": false
   },
   "outputs": [],
   "source": [
    "#improting the module\n",
    "import qrcode\n",
    "\n",
    "# creating the variable for the QR code\n",
    "qr = qrcode.QRCode(\n",
    "    version = 1,\n",
    "    box_size = 15,\n",
    "    border = 10\n",
    "    )\n",
    "\n",
    "# adding a link for the QR code to open\n",
    "data = 'put here your google docs link'\n",                        
    "qr.add_data(data)\n",
    "qr.make(fit=True)\n",
    "\n",
    "# adding the color\n",
    "img = qr.make_image(fill = 'black', back_color = 'white')\n",
    "img.save('qrcodewithlink.png')"
   ]
  },
  {
   "cell_type": "code",
   "execution_count": null,
   "id": "ead5570e",
   "metadata": {},
   "outputs": [],
   "source": []
  }
 ],
 "metadata": {
  "kernelspec": {
   "display_name": "Python 3 (ipykernel)",
   "language": "python",
   "name": "python3"
  },
  "language_info": {
   "codemirror_mode": {
    "name": "ipython",
    "version": 3
   },
   "file_extension": ".py",
   "mimetype": "text/x-python",
   "name": "python",
   "nbconvert_exporter": "python",
   "pygments_lexer": "ipython3",
   "version": "3.9.12"
  }
 },
 "nbformat": 4,
 "nbformat_minor": 5
}
